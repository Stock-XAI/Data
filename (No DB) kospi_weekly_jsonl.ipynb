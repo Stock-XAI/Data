{
 "cells": [
  {
   "cell_type": "code",
   "execution_count": 4,
   "id": "dc2bccde-6e44-4340-9e37-566c282319c2",
   "metadata": {},
   "outputs": [
    {
     "name": "stdout",
     "output_type": "stream",
     "text": [
      "✅ 주간 JSONL 생성 완료!\n"
     ]
    }
   ],
   "source": [
    "import FinanceDataReader as fdr\n",
    "import pandas as pd\n",
    "import json\n",
    "\n",
    "# 등락률 분류 함수\n",
    "def classify_change(rate):\n",
    "    if rate >= 0.05:\n",
    "        return \"Strong Positive (≥ 0.05)\"\n",
    "    elif rate >= 0.02:\n",
    "        return \"Positive (0.02–0.0499)\"\n",
    "    elif rate >= 0.0:\n",
    "        return \"Slight Positive (0–0.0199)\"\n",
    "    elif rate > -0.02:\n",
    "        return \"Slight Negative (–0.0199 to 0)\"\n",
    "    elif rate > -0.05:\n",
    "        return \"Negative (–0.0499 to –0.02)\"\n",
    "    else:\n",
    "        return \"Strong Negative (≤ –0.05)\"\n",
    "\n",
    "# KOSPI 시가총액 상위 50개 종목\n",
    "kospi = fdr.StockListing('KOSPI')\n",
    "top50 = kospi.sort_values(by='Marcap', ascending=False).head(50)\n",
    "codes = top50[['Code', 'Name']].reset_index(drop=True)\n",
    "\n",
    "weekly_jsonl_str = \"\"\n",
    "\n",
    "for company, ticker in zip(codes['Name'], codes['Code']):\n",
    "    try:\n",
    "        df = fdr.DataReader(ticker, '2022-01-01', '2024-12-31')\n",
    "        if df.empty or len(df) < 60:\n",
    "            continue\n",
    "\n",
    "        weekly_df = df.resample('W').agg({\n",
    "            'Open': 'first',\n",
    "            'High': 'max',\n",
    "            'Low': 'min',\n",
    "            'Close': 'last',\n",
    "            'Volume': 'sum'\n",
    "        }).dropna()\n",
    "\n",
    "        # weekly_df['Change'] = (weekly_df['Close'] - weekly_df['Open']) / weekly_df['Open']\n",
    "        weekly_df['Change'] = weekly_df['Close'].pct_change().shift(-1)\n",
    "        weekly_df = weekly_df.reset_index()\n",
    "\n",
    "        for i in range(len(weekly_df) - 11):\n",
    "            context_df = weekly_df.iloc[i:i+10]\n",
    "            target_row = weekly_df.iloc[i+10]\n",
    "\n",
    "            if context_df.isnull().values.any() or pd.isna(target_row[\"Change\"]):\n",
    "                continue\n",
    "\n",
    "            context_lines = [\n",
    "                f\"{row['Date'].date()}, {row['Open']}, {row['High']}, {row['Low']}, {row['Close']}, {row['Volume']}, {round(row['Change'], 6)}\"\n",
    "                for _, row in context_df.iterrows()\n",
    "            ]\n",
    "\n",
    "            output_label = classify_change(target_row[\"Change\"])\n",
    "\n",
    "            instruction = f\"\"\"Assess the data to estimate how the closing price of {company} will change on {target_row['Date'].date()}.\\nRespond with one of the following levels based on the rate of change: \\nStrong Positive (≥ 0.05), Positive (0.02–0.0499), Slight Positive (0–0.0199), Slight Negative (–0.0199 to 0), \\nNegative (–0.0499 to –0.02), or Strong Negative (≤ –0.05).\\n\\nContext: date, open, high, low, close, volume, change.\\n{chr(10).join(context_lines)}\\nAnswer:\"\"\"\n",
    "            # instruction = f\"\"\"Assess the data to estimate how the closing price of {company} will change next week.\\nRespond with one of the following levels based on the rate of change: \\nStrong Positive (≥ 0.05), Positive (0.02–0.0499), Slight Positive (0–0.0199), Slight Negative (–0.0199 to 0), \\nNegative (–0.0499 to –0.02), or Strong Negative (≤ –0.05).\\n\\nContext: date, open, high, low, close, volume, change.\\n{chr(10).join(context_lines)}\\nAnswer:\"\"\"\n",
    "            json_obj = {\n",
    "                \"instruction\": instruction,\n",
    "                \"output\": output_label\n",
    "            }\n",
    "\n",
    "            weekly_jsonl_str += json.dumps(json_obj, ensure_ascii=False) + \"\\n\"\n",
    "    except Exception as e:\n",
    "        print(f\"❗ Error for {company} ({ticker}): {e}\")\n",
    "        continue\n",
    "\n",
    "with open(\"kospi_fdr_output_10_weeks.jsonl\", \"w\", encoding=\"utf-8\") as f:\n",
    "    f.write(weekly_jsonl_str)\n",
    "\n",
    "print(\"✅ 주간 JSONL 생성 완료!\")\n"
   ]
  },
  {
   "cell_type": "code",
   "execution_count": null,
   "id": "372329c2-0fec-4c7a-bfe8-a7c65776e1e7",
   "metadata": {},
   "outputs": [],
   "source": []
  }
 ],
 "metadata": {
  "kernelspec": {
   "display_name": "Python 3 (ipykernel)",
   "language": "python",
   "name": "python3"
  },
  "language_info": {
   "codemirror_mode": {
    "name": "ipython",
    "version": 3
   },
   "file_extension": ".py",
   "mimetype": "text/x-python",
   "name": "python",
   "nbconvert_exporter": "python",
   "pygments_lexer": "ipython3",
   "version": "3.10.4"
  }
 },
 "nbformat": 4,
 "nbformat_minor": 5
}
