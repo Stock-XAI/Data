{
 "cells": [
  {
   "cell_type": "code",
   "execution_count": 6,
   "id": "7fd1096c-11f9-44ac-8679-ffe8b34a87a0",
   "metadata": {},
   "outputs": [],
   "source": [
    "import FinanceDataReader as fdr\n",
    "import pandas as pd\n",
    "from tqdm import tqdm\n",
    "import FinanceDataReader as fdr\n",
    "import json\n",
    "from datetime import datetime"
   ]
  },
  {
   "cell_type": "markdown",
   "id": "0734ec97-d56f-4619-b7a3-cdc92ed12577",
   "metadata": {},
   "source": [
    "# 일간 데이터"
   ]
  },
  {
   "cell_type": "code",
   "execution_count": 7,
   "id": "704ba56a-fe45-4e5f-8e78-6f53b9801610",
   "metadata": {},
   "outputs": [
    {
     "name": "stdout",
     "output_type": "stream",
     "text": [
      "✅ FDR 기반 Regression JSONL 생성 완료\n"
     ]
    }
   ],
   "source": [
    "\n",
    "# 2. KOSPI 시가총액 상위 50개 종목 가져오기\n",
    "kospi = fdr.StockListing('KOSPI')\n",
    "top50 = kospi.sort_values(by='Marcap', ascending=False).head(50)\n",
    "codes = top50[['Code', 'Name']].reset_index(drop=True)\n",
    "\n",
    "jsonl_str = \"\"\n",
    "\n",
    "for company, ticker in zip(codes['Name'], codes['Code']):\n",
    "    df = fdr.DataReader(ticker, '2022-01-01', '2024-12-31')\n",
    "    df = df.reset_index()\n",
    "    df[\"Change\"] = df[\"Close\"].pct_change().shift(-1)  # 다음날 종가 기준 변화율\n",
    "\n",
    "    for i in range(0, len(df) - 11, 10):\n",
    "        context_df = df.iloc[i:i+10]\n",
    "        target_row = df.iloc[i+10]\n",
    "\n",
    "        if context_df.isnull().values.any() or pd.isna(target_row[\"Change\"]):\n",
    "            continue\n",
    "\n",
    "        context_lines = [\n",
    "            f\"{row['Date'].date()}, {row['Open']}, {row['High']}, {row['Low']}, {row['Close']}, {row['Volume']}, {round(row['Change'], 6)}\"\n",
    "            for _, row in context_df.iterrows()\n",
    "        ]\n",
    "\n",
    "        output_label = round(target_row[\"Change\"], 6)\n",
    "        \n",
    "        instruction = f\"\"\"Using the context below, estimate the rate of change in the closing price of {company} on {target_row['Date'].date()}.\n",
    "Return the expected value of change as a decimal.\n",
    "\n",
    "Context: date, open, high, low, close, volume, change.\n",
    "{chr(10).join(context_lines)}\n",
    "Answer:\"\"\"\n",
    "\n",
    "        json_obj = {\n",
    "            \"instruction\": instruction,\n",
    "            \"output\": output_label\n",
    "        }\n",
    "\n",
    "        jsonl_str += json.dumps(json_obj, ensure_ascii=False) + \"\\n\"\n",
    "\n",
    "# 저장\n",
    "with open(\"kospi_10_days_reg_output_.jsonl\", \"w\", encoding=\"utf-8\") as f:\n",
    "    f.write(jsonl_str)\n",
    "\n",
    "print(\"✅ FDR 기반 Regression JSONL 생성 완료\")\n"
   ]
  },
  {
   "cell_type": "markdown",
   "id": "7e21b770-0edc-466f-9194-357dd4e0987e",
   "metadata": {},
   "source": [
    "# 주간 데이터"
   ]
  },
  {
   "cell_type": "code",
   "execution_count": 8,
   "id": "05368922-6b44-41fc-ba04-3223f2c38d6c",
   "metadata": {},
   "outputs": [
    {
     "name": "stdout",
     "output_type": "stream",
     "text": [
      "✅ 주간 JSONL 생성 완료!\n"
     ]
    }
   ],
   "source": [
    "import FinanceDataReader as fdr\n",
    "import pandas as pd\n",
    "import json\n",
    "\n",
    "# KOSPI 시가총액 상위 50개 종목\n",
    "kospi = fdr.StockListing('KOSPI')\n",
    "top50 = kospi.sort_values(by='Marcap', ascending=False).head(50)\n",
    "codes = top50[['Code', 'Name']].reset_index(drop=True)\n",
    "\n",
    "weekly_jsonl_str = \"\"\n",
    "\n",
    "for company, ticker in zip(codes['Name'], codes['Code']):\n",
    "    try:\n",
    "        df = fdr.DataReader(ticker, '2022-01-01', '2024-12-31')\n",
    "        if df.empty or len(df) < 60:\n",
    "            continue\n",
    "\n",
    "        weekly_df = df.resample('W').agg({\n",
    "            'Open': 'first',\n",
    "            'High': 'max',\n",
    "            'Low': 'min',\n",
    "            'Close': 'last',\n",
    "            'Volume': 'sum'\n",
    "        }).dropna()\n",
    "\n",
    "        # weekly_df['Change'] = (weekly_df['Close'] - weekly_df['Open']) / weekly_df['Open']\n",
    "        weekly_df['Change'] = weekly_df['Close'].pct_change().shift(-1)\n",
    "        weekly_df = weekly_df.reset_index()\n",
    "\n",
    "        for i in range(len(weekly_df) - 11):\n",
    "            context_df = weekly_df.iloc[i:i+10]\n",
    "            target_row = weekly_df.iloc[i+10]\n",
    "\n",
    "            if context_df.isnull().values.any() or pd.isna(target_row[\"Change\"]):\n",
    "                continue\n",
    "\n",
    "            context_lines = [\n",
    "                f\"{row['Date'].date()}, {row['Open']}, {row['High']}, {row['Low']}, {row['Close']}, {row['Volume']}, {round(row['Change'], 6)}\"\n",
    "                for _, row in context_df.iterrows()\n",
    "            ]\n",
    "\n",
    "            output_label = round(target_row[\"Change\"], 6)\n",
    "        \n",
    "            instruction = f\"\"\"Using the context below, estimate the rate of change in the closing price of {company} on {target_row['Date'].date()}.\n",
    "    Return the expected value of change as a decimal.\n",
    "    \n",
    "    Context: date, open, high, low, close, volume, change.\n",
    "    {chr(10).join(context_lines)}\n",
    "    Answer:\"\"\"\n",
    "    \n",
    "            json_obj = {\n",
    "                \"instruction\": instruction,\n",
    "                \"output\": output_label\n",
    "            }\n",
    "\n",
    "            weekly_jsonl_str += json.dumps(json_obj, ensure_ascii=False) + \"\\n\"\n",
    "    except Exception as e:\n",
    "        print(f\"❗ Error for {company} ({ticker}): {e}\")\n",
    "        continue\n",
    "\n",
    "with open(\"kospi_10_weeks_reg_output_.jsonl\", \"w\", encoding=\"utf-8\") as f:\n",
    "    f.write(weekly_jsonl_str)\n",
    "\n",
    "print(\"✅ 주간 JSONL 생성 완료!\")\n"
   ]
  },
  {
   "cell_type": "markdown",
   "id": "4003e559-a844-4ab9-ba59-6326213779e1",
   "metadata": {},
   "source": [
    "# 월간 데이터"
   ]
  },
  {
   "cell_type": "code",
   "execution_count": 9,
   "id": "5fab6786-213d-44b5-a77f-80334e34059d",
   "metadata": {},
   "outputs": [
    {
     "name": "stdout",
     "output_type": "stream",
     "text": [
      "✅ 월간 JSONL 생성 완료!\n"
     ]
    }
   ],
   "source": [
    "import FinanceDataReader as fdr\n",
    "import pandas as pd\n",
    "import json\n",
    "\n",
    "# KOSPI 시가총액 상위 50개 종목\n",
    "kospi = fdr.StockListing('KOSPI')\n",
    "top50 = kospi.sort_values(by='Marcap', ascending=False).head(50)\n",
    "codes = top50[['Code', 'Name']].reset_index(drop=True)\n",
    "\n",
    "monthly_jsonl_str = \"\"\n",
    "\n",
    "for company, ticker in zip(codes['Name'], codes['Code']):\n",
    "    try:\n",
    "        df = fdr.DataReader(ticker, '2022-01-01', '2024-12-31')\n",
    "        if df.empty or len(df) < 250:\n",
    "            continue\n",
    "\n",
    "        # 월간 리샘플링\n",
    "        monthly_df = df.resample('M').agg({\n",
    "            'Open': 'first',\n",
    "            'High': 'max',\n",
    "            'Low': 'min',\n",
    "            'Close': 'last',\n",
    "            'Volume': 'sum'\n",
    "        }).dropna()\n",
    "\n",
    "        # 월간 수익률 계산\n",
    "        # monthly_df['Change'] = (monthly_df['Close'] - monthly_df['Open']) / monthly_df['Open']\n",
    "        monthly_df['Change'] = monthly_df['Close'].pct_change().shift(-1)\n",
    "        monthly_df = monthly_df.reset_index()\n",
    "\n",
    "        for i in range(len(monthly_df) - 11):\n",
    "            context_df = monthly_df.iloc[i:i+10]\n",
    "            target_row = monthly_df.iloc[i+10]\n",
    "\n",
    "            if context_df.isnull().values.any() or pd.isna(target_row[\"Change\"]):\n",
    "                continue\n",
    "\n",
    "            context_lines = [\n",
    "                f\"{row['Date'].date()}, {row['Open']}, {row['High']}, {row['Low']}, {row['Close']}, {row['Volume']}, {round(row['Change'], 6)}\"\n",
    "                for _, row in context_df.iterrows()\n",
    "            ]\n",
    "\n",
    "            output_label = round(target_row[\"Change\"], 6)\n",
    "        \n",
    "            instruction = f\"\"\"Using the context below, estimate the rate of change in the closing price of {company} on {target_row['Date'].date()}.\n",
    "    Return the expected value of change as a decimal.\n",
    "    \n",
    "    Context: date, open, high, low, close, volume, change.\n",
    "    {chr(10).join(context_lines)}\n",
    "    Answer:\"\"\"\n",
    "    \n",
    "            json_obj = {\n",
    "                \"instruction\": instruction,\n",
    "                \"output\": output_label\n",
    "            }\n",
    "\n",
    "            monthly_jsonl_str += json.dumps(json_obj, ensure_ascii=False) + \"\\n\"\n",
    "\n",
    "    except Exception as e:\n",
    "        print(f\"❗ Error for {company} ({ticker}): {e}\")\n",
    "        continue\n",
    "\n",
    "# 저장\n",
    "with open(\"kospi_10_months_reg_output_.jsonl\", \"w\", encoding=\"utf-8\") as f:\n",
    "    f.write(monthly_jsonl_str)\n",
    "\n",
    "print(\"✅ 월간 JSONL 생성 완료!\")\n"
   ]
  },
  {
   "cell_type": "code",
   "execution_count": null,
   "id": "d591ab8c-67ba-4579-83a9-908eef71f172",
   "metadata": {},
   "outputs": [],
   "source": []
  }
 ],
 "metadata": {
  "kernelspec": {
   "display_name": "Python 3 (ipykernel)",
   "language": "python",
   "name": "python3"
  },
  "language_info": {
   "codemirror_mode": {
    "name": "ipython",
    "version": 3
   },
   "file_extension": ".py",
   "mimetype": "text/x-python",
   "name": "python",
   "nbconvert_exporter": "python",
   "pygments_lexer": "ipython3",
   "version": "3.10.4"
  }
 },
 "nbformat": 4,
 "nbformat_minor": 5
}
