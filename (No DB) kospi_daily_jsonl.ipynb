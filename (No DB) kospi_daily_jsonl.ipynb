{
 "cells": [
  {
   "cell_type": "code",
   "execution_count": 2,
   "id": "7fd1096c-11f9-44ac-8679-ffe8b34a87a0",
   "metadata": {},
   "outputs": [],
   "source": [
    "import FinanceDataReader as fdr\n",
    "import pandas as pd\n",
    "from pymongo import MongoClient\n",
    "from tqdm import tqdm\n",
    "import FinanceDataReader as fdr\n",
    "import json\n",
    "from datetime import datetime\n",
    "import os"
   ]
  },
  {
   "cell_type": "code",
   "execution_count": 3,
   "id": "28897004-1fa8-475c-9bd9-abc1e13510dd",
   "metadata": {},
   "outputs": [],
   "source": [
    "def classify_change(rate):\n",
    "    if rate >= 0.05:\n",
    "        return \"Strong Positive (≥ 0.05)\"\n",
    "    elif rate >= 0.02:\n",
    "        return \"Positive (0.02–0.0499)\"\n",
    "    elif rate >= 0.0:\n",
    "        return \"Slight Positive (0–0.0199)\"\n",
    "    elif rate > -0.02:\n",
    "        return \"Slight Negative (–0.0199 to 0)\"\n",
    "    elif rate > -0.05:\n",
    "        return \"Negative (–0.0499 to –0.02)\"\n",
    "    else:\n",
    "        return \"Strong Negative (≤ –0.05)\"\n"
   ]
  },
  {
   "cell_type": "code",
   "execution_count": 5,
   "id": "704ba56a-fe45-4e5f-8e78-6f53b9801610",
   "metadata": {},
   "outputs": [
    {
     "name": "stdout",
     "output_type": "stream",
     "text": [
      "✅ FDR 기반 JSONL 생성 완료\n"
     ]
    }
   ],
   "source": [
    "\n",
    "# 2. KOSPI 시가총액 상위 50개 종목 가져오기\n",
    "kospi = fdr.StockListing('KOSPI')\n",
    "top50 = kospi.sort_values(by='Marcap', ascending=False).head(50)\n",
    "codes = top50[['Code', 'Name']].reset_index(drop=True)\n",
    "\n",
    "jsonl_str = \"\"\n",
    "\n",
    "for company, ticker in zip(codes['Name'], codes['Code']):\n",
    "    df = fdr.DataReader(ticker, '2022-01-01', '2024-12-31')\n",
    "    df = df.reset_index()\n",
    "    df[\"Change\"] = df[\"Close\"].pct_change().shift(-1)  # 다음날 종가 기준 변화율\n",
    "\n",
    "    for i in range(0, len(df) - 11, 10):\n",
    "        context_df = df.iloc[i:i+10]\n",
    "        target_row = df.iloc[i+10]\n",
    "\n",
    "        if context_df.isnull().values.any() or pd.isna(target_row[\"Change\"]):\n",
    "            continue\n",
    "\n",
    "        context_lines = [\n",
    "            f\"{row['Date'].date()}, {row['Open']}, {row['High']}, {row['Low']}, {row['Close']}, {row['Volume']}, {round(row['Change'], 6)}\"\n",
    "            for _, row in context_df.iterrows()\n",
    "        ]\n",
    "\n",
    "        output_label = classify_change(target_row[\"Change\"])\n",
    "        \n",
    "        # instruction = f\"\"\"Assess the data to estimate how the closing price of {company} will change on {target_row['Date'].date()}.\\nRespond with one of the following levels based on the rate of change: \\nStrong Positive (≥ 0.05), Positive (0.02–0.0499), Slight Positive (0–0.0199), Slight Negative (–0.0199 to 0), \\nNegative (–0.0499 to –0.02), or Strong Negative (≤ –0.05).\\n\\nContext: date, open, high, low, close, volume, change.\\n{chr(10).join(context_lines)}\\nAnswer:\"\"\"\n",
    "        instruction = f\"\"\"Assess the data to estimate how the closing price of {company} will change tomorrow.\\nRespond with one of the following levels based on the rate of change: \\nStrong Positive (≥ 0.05), Positive (0.02–0.0499), Slight Positive (0–0.0199), Slight Negative (–0.0199 to 0), \\nNegative (–0.0499 to –0.02), or Strong Negative (≤ –0.05).\\n\\nContext: date, open, high, low, close, volume, change.\\n{chr(10).join(context_lines)}\\nAnswer:\"\"\"\n",
    "\n",
    "        json_obj = {\n",
    "            \"instruction\": instruction,\n",
    "            \"output\": output_label\n",
    "        }\n",
    "\n",
    "        jsonl_str += json.dumps(json_obj, ensure_ascii=False) + \"\\n\"\n",
    "\n",
    "# 저장\n",
    "with open(\"kospi_fdr_output_10_days.jsonl\", \"w\", encoding=\"utf-8\") as f:\n",
    "    f.write(jsonl_str)\n",
    "\n",
    "print(\"✅ FDR 기반 JSONL 생성 완료\")\n"
   ]
  },
  {
   "cell_type": "code",
   "execution_count": null,
   "id": "7a1c7c76-c4ac-4831-92d3-6573cd68f3ea",
   "metadata": {},
   "outputs": [],
   "source": []
  }
 ],
 "metadata": {
  "kernelspec": {
   "display_name": "Python 3 (ipykernel)",
   "language": "python",
   "name": "python3"
  },
  "language_info": {
   "codemirror_mode": {
    "name": "ipython",
    "version": 3
   },
   "file_extension": ".py",
   "mimetype": "text/x-python",
   "name": "python",
   "nbconvert_exporter": "python",
   "pygments_lexer": "ipython3",
   "version": "3.10.4"
  }
 },
 "nbformat": 4,
 "nbformat_minor": 5
}
