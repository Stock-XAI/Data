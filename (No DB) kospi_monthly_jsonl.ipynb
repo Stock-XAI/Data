{
 "cells": [
  {
   "cell_type": "code",
   "execution_count": 5,
   "id": "1e5c16af-f41e-40e2-8e66-57c477f6833d",
   "metadata": {},
   "outputs": [
    {
     "name": "stdout",
     "output_type": "stream",
     "text": [
      "✅ 월간 JSONL 생성 완료!\n"
     ]
    }
   ],
   "source": [
    "import FinanceDataReader as fdr\n",
    "import pandas as pd\n",
    "import json\n",
    "\n",
    "# 등락률 분류 함수\n",
    "def classify_change(rate):\n",
    "    if rate >= 0.05:\n",
    "        return \"Strong Positive (≥ 0.05)\"\n",
    "    elif rate >= 0.02:\n",
    "        return \"Positive (0.02–0.0499)\"\n",
    "    elif rate >= 0.0:\n",
    "        return \"Slight Positive (0–0.0199)\"\n",
    "    elif rate > -0.02:\n",
    "        return \"Slight Negative (–0.0199 to 0)\"\n",
    "    elif rate > -0.05:\n",
    "        return \"Negative (–0.0499 to –0.02)\"\n",
    "    else:\n",
    "        return \"Strong Negative (≤ –0.05)\"\n",
    "\n",
    "# KOSPI 시가총액 상위 50개 종목\n",
    "kospi = fdr.StockListing('KOSPI')\n",
    "top50 = kospi.sort_values(by='Marcap', ascending=False).head(50)\n",
    "codes = top50[['Code', 'Name']].reset_index(drop=True)\n",
    "\n",
    "monthly_jsonl_str = \"\"\n",
    "\n",
    "for company, ticker in zip(codes['Name'], codes['Code']):\n",
    "    try:\n",
    "        df = fdr.DataReader(ticker, '2022-01-01', '2024-12-31')\n",
    "        if df.empty or len(df) < 250:\n",
    "            continue\n",
    "\n",
    "        # 월간 리샘플링\n",
    "        monthly_df = df.resample('M').agg({\n",
    "            'Open': 'first',\n",
    "            'High': 'max',\n",
    "            'Low': 'min',\n",
    "            'Close': 'last',\n",
    "            'Volume': 'sum'\n",
    "        }).dropna()\n",
    "\n",
    "        # 월간 수익률 계산\n",
    "        # monthly_df['Change'] = (monthly_df['Close'] - monthly_df['Open']) / monthly_df['Open']\n",
    "        monthly_df['Change'] = monthly_df['Close'].pct_change().shift(-1)\n",
    "        monthly_df = monthly_df.reset_index()\n",
    "\n",
    "        for i in range(len(monthly_df) - 11):\n",
    "            context_df = monthly_df.iloc[i:i+10]\n",
    "            target_row = monthly_df.iloc[i+10]\n",
    "\n",
    "            if context_df.isnull().values.any() or pd.isna(target_row[\"Change\"]):\n",
    "                continue\n",
    "\n",
    "            context_lines = [\n",
    "                f\"{row['Date'].date()}, {row['Open']}, {row['High']}, {row['Low']}, {row['Close']}, {row['Volume']}, {round(row['Change'], 6)}\"\n",
    "                for _, row in context_df.iterrows()\n",
    "            ]\n",
    "\n",
    "            output_label = classify_change(target_row[\"Change\"])\n",
    "\n",
    "            instruction = f\"\"\"Assess the data to estimate how the closing price of {company} will change on {target_row['Date'].date()}.\\nRespond with one of the following levels based on the rate of change: \\nStrong Positive (≥ 0.05), Positive (0.02–0.0499), Slight Positive (0–0.0199), Slight Negative (–0.0199 to 0), \\nNegative (–0.0499 to –0.02), or Strong Negative (≤ –0.05).\\n\\nContext: date, open, high, low, close, volume, change.\\n{chr(10).join(context_lines)}\\nAnswer:\"\"\"\n",
    "            # instruction = f\"\"\"Assess the data to estimate how the closing price of {company} will change next month.\\nRespond with one of the following levels based on the rate of change: \\nStrong Positive (≥ 0.05), Positive (0.02–0.0499), Slight Positive (0–0.0199), Slight Negative (–0.0199 to 0), \\nNegative (–0.0499 to –0.02), or Strong Negative (≤ –0.05).\\n\\nContext: date, open, high, low, close, volume, change.\\n{chr(10).join(context_lines)}\\nAnswer:\"\"\"\n",
    "            json_obj = {\n",
    "                \"instruction\": instruction,\n",
    "                \"output\": output_label\n",
    "            }\n",
    "\n",
    "            monthly_jsonl_str += json.dumps(json_obj, ensure_ascii=False) + \"\\n\"\n",
    "\n",
    "    except Exception as e:\n",
    "        print(f\"❗ Error for {company} ({ticker}): {e}\")\n",
    "        continue\n",
    "\n",
    "# 저장\n",
    "with open(\"kospi_fdr_output_10_months.jsonl\", \"w\", encoding=\"utf-8\") as f:\n",
    "    f.write(monthly_jsonl_str)\n",
    "\n",
    "print(\"✅ 월간 JSONL 생성 완료!\")\n"
   ]
  },
  {
   "cell_type": "code",
   "execution_count": null,
   "id": "a6940743-f067-4008-8211-cc37f131cff0",
   "metadata": {},
   "outputs": [],
   "source": []
  }
 ],
 "metadata": {
  "kernelspec": {
   "display_name": "Python 3 (ipykernel)",
   "language": "python",
   "name": "python3"
  },
  "language_info": {
   "codemirror_mode": {
    "name": "ipython",
    "version": 3
   },
   "file_extension": ".py",
   "mimetype": "text/x-python",
   "name": "python",
   "nbconvert_exporter": "python",
   "pygments_lexer": "ipython3",
   "version": "3.10.4"
  }
 },
 "nbformat": 4,
 "nbformat_minor": 5
}
